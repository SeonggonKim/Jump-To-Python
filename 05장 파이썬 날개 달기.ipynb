{
 "cells": [
  {
   "cell_type": "markdown",
   "metadata": {},
   "source": [
    "# 05-1 파이썬 프로그래밍의 핵심, 클래스"
   ]
  },
  {
   "cell_type": "code",
   "execution_count": 1,
   "metadata": {},
   "outputs": [
    {
     "data": {
      "text/plain": [
       "'영구는 배꼽이 두 개다.'"
      ]
     },
     "execution_count": 1,
     "metadata": {},
     "output_type": "execute_result"
    }
   ],
   "source": [
    "#클래스 변수\n",
    "class Service:                            #클래스 이름 지정\n",
    "    secret = \"영구는 배꼽이 두 개다.\"      #클래스 내에 변수 생성\n",
    "    \n",
    "pey = Service()      #pey라는 아이디로 Service 클래스 이용\n",
    "pey.secret           #아이디.변수의 방법으로 클래스 내의 정보 호출 가능"
   ]
  },
  {
   "cell_type": "code",
   "execution_count": 2,
   "metadata": {},
   "outputs": [
    {
     "name": "stdout",
     "output_type": "stream",
     "text": [
      "2 + 3 = 5입니다.\n"
     ]
    }
   ],
   "source": [
    "#클래스 함수\n",
    "class Service:\n",
    "    secret = \"영구는 배꼽이 두 개다.\"\n",
    "    def sum(self, a, b):           #클래스 내에 함수 생성 시, 첫 번째 인수는 무조건 self\n",
    "        result = a + b\n",
    "        print(\"%s + %s = %s입니다.\" % (a, b, a + b))\n",
    "        \n",
    "pey = Service()\n",
    "pey.sum(2, 3)   "
   ]
  },
  {
   "cell_type": "code",
   "execution_count": 3,
   "metadata": {},
   "outputs": [
    {
     "name": "stdout",
     "output_type": "stream",
     "text": [
      "안녕하세요 김성곤님! 2 + 3 = 5입니다.\n"
     ]
    }
   ],
   "source": [
    "#self 제대로 알기\n",
    "class Service:\n",
    "    secret = \"영구는 배꼽이 두 개다.\"\n",
    "    def setname(self, name):       #아이디에 name이라는 변수의 값 매칭\n",
    "        self.name = name           #name에 입력한 값을 self.name에 대입\n",
    "    def sum(self, a, b):\n",
    "        result = a + b\n",
    "        print(\"안녕하세요 %s님! %s + %s = %s입니다.\" % (self.name, a, b, result))\n",
    "        \n",
    "pey = Service()\n",
    "pey.setname(\"김성곤\")\n",
    "pey.sum(2, 3)"
   ]
  },
  {
   "cell_type": "code",
   "execution_count": 4,
   "metadata": {},
   "outputs": [
    {
     "name": "stdout",
     "output_type": "stream",
     "text": [
      "안녕하세요 김성곤님! 2 + 3 = 5입니다.\n"
     ]
    }
   ],
   "source": [
    "#__init__\n",
    "class Service:\n",
    "    secret = \"영구는 배꼽이 두 개다.\"\n",
    "    def __init__(self, name):    #인스턴스를 만들 때 항상 실행\n",
    "        self.name = name\n",
    "    def sum(self, a, b):\n",
    "        result = a + b\n",
    "        print(\"안녕하세요 %s님! %s + %s = %s입니다.\" % (self.name, a, b, result))\n",
    "        \n",
    "pey = Service(\"김성곤\")    #__init__에 의해 아이디를 부여받을 때 이름도 같이 입력해야 함\n",
    "pey.sum(2, 3)    #pey.setname(\"김성곤\")과 같은 별도의 과정 생략 가능"
   ]
  },
  {
   "cell_type": "code",
   "execution_count": 5,
   "metadata": {},
   "outputs": [
    {
     "name": "stdout",
     "output_type": "stream",
     "text": [
      "두 값을 더하면 7 입니다.\n",
      "두 값을 빼면 -1 입니다.\n",
      "두 값을 곱하면 12 입니다.\n",
      "두 값을 나누면 0.75 입니다.\n",
      "\n",
      "두 값을 더하면 30 입니다.\n",
      "두 값을 빼면 -10 입니다.\n",
      "두 값을 곱하면 200 입니다.\n",
      "두 값을 나누면 0.5 입니다.\n"
     ]
    }
   ],
   "source": [
    "#사칙연산 class 만들기\n",
    "class FourCal:\n",
    "    def setdata(self, first, second):   #계산에 사용될 두 값 입력\n",
    "        self.first = first\n",
    "        self.second = second\n",
    "    def sum(self):\n",
    "        result = self.first + self.second\n",
    "        return result\n",
    "    def sub(self):\n",
    "        result = self.first - self.second\n",
    "        return result\n",
    "    def mul(self):\n",
    "        result = self.first * self.second\n",
    "        return result\n",
    "    def div(self):\n",
    "        result = self.first / self.second\n",
    "        return result\n",
    "    \n",
    "a = FourCal()\n",
    "a.setdata(3, 4)\n",
    "print(\"두 값을 더하면 %s 입니다.\" % a.sum())\n",
    "print(\"두 값을 빼면 %s 입니다.\" % a.sub())\n",
    "print(\"두 값을 곱하면 %s 입니다.\" % a.mul())\n",
    "print(\"두 값을 나누면 %s 입니다.\" % a.div())\n",
    "print()\n",
    "\n",
    "b = FourCal()   #a와 b는 각각의 독립적인 아이디로 코드 수행\n",
    "b.setdata(10, 20)\n",
    "print(\"두 값을 더하면 %s 입니다.\" % b.sum())\n",
    "print(\"두 값을 빼면 %s 입니다.\" % b.sub())\n",
    "print(\"두 값을 곱하면 %s 입니다.\" % b.mul())\n",
    "print(\"두 값을 나누면 %s 입니다.\" % b.div())"
   ]
  },
  {
   "cell_type": "code",
   "execution_count": 6,
   "metadata": {},
   "outputs": [
    {
     "name": "stdout",
     "output_type": "stream",
     "text": [
      "박사까지는 하지 않을 성곤, 스페인 여행을 가다.\n"
     ]
    }
   ],
   "source": [
    "#박씨네 집 클라스 만들기\n",
    "class HousePark:\n",
    "    lastname = \"박\"\n",
    "    def setname(self, name):\n",
    "        self.fullname = self.lastname + name\n",
    "    def travel(self, where):\n",
    "        print(\"%s, %s 여행을 가다.\" % (self.fullname, where))\n",
    "        \n",
    "pey = HousePark()\n",
    "pey.setname(\"사까지는 하지 않을 성곤\")\n",
    "pey.travel(\"스페인\")"
   ]
  },
  {
   "cell_type": "code",
   "execution_count": 7,
   "metadata": {},
   "outputs": [
    {
     "name": "stdout",
     "output_type": "stream",
     "text": [
      "박사까지는 하지 않을 성곤, 스페인 여행을 가다.\n"
     ]
    }
   ],
   "source": [
    "#박씨네 집 클라스에 __init__를 적용하기\n",
    "class HousePark:\n",
    "    lastname = \"박\"\n",
    "    def __init__(self, name):\n",
    "        self.fullname = self.lastname + name\n",
    "    def travel(self, where):\n",
    "        print(\"%s, %s 여행을 가다.\" % (self.fullname, where))\n",
    "        \n",
    "pey = HousePark(\"사까지는 하지 않을 성곤\")\n",
    "pey.travel(\"스페인\")"
   ]
  },
  {
   "cell_type": "code",
   "execution_count": 8,
   "metadata": {},
   "outputs": [
    {
     "name": "stdout",
     "output_type": "stream",
     "text": [
      "김성곤, 뉴욕 여행을 가다.\n"
     ]
    }
   ],
   "source": [
    "#클래스의 상속\n",
    "class HouseKim(HousePark):   #HousePark 클래스를 HouseKim이 그대로 상속하고 lastname만 변경\n",
    "    lastname = \"김\"\n",
    "\n",
    "gon = HouseKim(\"성곤\")\n",
    "gon.travel(\"뉴욕\")"
   ]
  },
  {
   "cell_type": "code",
   "execution_count": 9,
   "metadata": {
    "scrolled": true
   },
   "outputs": [
    {
     "name": "stdout",
     "output_type": "stream",
     "text": [
      "손흥민, 영국 여행을 7일 가다.\n"
     ]
    }
   ],
   "source": [
    "#메서드 오버라이딩\n",
    "class HouseSon(HousePark):\n",
    "    lastname = \"손\"\n",
    "    def travel(self, where, day):                                           #상속하는 클래스의 함수도 수정 가능\n",
    "        print(\"%s, %s 여행을 %s일 가다.\" % (self.fullname, where, day))\n",
    "        \n",
    "Son = HouseSon(\"흥민\")\n",
    "Son.travel(\"영국\", 7)"
   ]
  },
  {
   "cell_type": "code",
   "execution_count": 10,
   "metadata": {},
   "outputs": [
    {
     "name": "stdout",
     "output_type": "stream",
     "text": [
      "박사까지 하지 않을 성곤, 김줄리엣과 사랑에 빠지다.\n",
      "박사까지 하지 않을 성곤, 김줄리엣과 결혼하다.\n"
     ]
    }
   ],
   "source": [
    "#연산자 오버로딩\n",
    "class HousePark:\n",
    "    lastname = \"박\"\n",
    "    def __init__(self, name):\n",
    "        self.fullname = self.lastname + name\n",
    "    def travel(self, where):\n",
    "        print(\"%s, %s 여행을 가다.\" % (self.fullname, where))\n",
    "    def love(self, other):                                                   #self는 pey, other은 juliet 할당\n",
    "        print(\"%s, %s과 사랑에 빠지다.\" % (self.fullname, other.fullname))\n",
    "    def __add__(self, other):\n",
    "        print(\"%s, %s과 결혼하다.\" % (self.fullname, other.fullname))\n",
    "        \n",
    "class HouseKim(HousePark):\n",
    "    lastname = \"김\"\n",
    "    def travel(self, where, day):\n",
    "        print(\"%s, %s 여행을 %d일 가다.\" % (self.fullname, where, day))\n",
    "        \n",
    "pey = HousePark(\"사까지 하지 않을 성곤\")\n",
    "juliet = HouseKim(\"줄리엣\")\n",
    "pey.love(juliet)\n",
    "pey + juliet    #()를 사용하는 대신 __add__에 의하여 + 연산자로 연결"
   ]
  },
  {
   "cell_type": "code",
   "execution_count": 11,
   "metadata": {},
   "outputs": [
    {
     "name": "stdout",
     "output_type": "stream",
     "text": [
      "박응용 부산 여행을 가다.\n",
      "김줄리엣 부산 여행을 3일 가네.\n",
      "박응용, 김줄리엣 사랑에 빠졌네\n",
      "박응용, 김줄리엣 결혼했네\n",
      "박응용, 김줄리엣 싸우네\n",
      "박응용, 김줄리엣 이혼했네\n"
     ]
    }
   ],
   "source": [
    "#박씨네 집 클래스 완성하기\n",
    "class HousePark:\n",
    "    lastname = \"박\"\n",
    "    def __init__(self, name):\n",
    "        self.name = self.lastname + name\n",
    "    def travel(self, where):\n",
    "        print(\"%s %s 여행을 가다.\" % (self.name, where))\n",
    "    def love(self, other):\n",
    "        print(\"%s, %s 사랑에 빠졌네\" % (self.name, other.name))\n",
    "    def __add__(self, other):\n",
    "        print(\"%s, %s 결혼했네\" % (self.name, other.name))\n",
    "    def fight(self, other):\n",
    "        print(\"%s, %s 싸우네\" % (self.name, other.name))\n",
    "    def __sub__(self, other):\n",
    "        print(\"%s, %s 이혼했네\" % (self.name, other.name))\n",
    "        \n",
    "class HouseKim(HousePark):\n",
    "    lastname = \"김\"\n",
    "    def travel(self, where, day):\n",
    "        print(\"%s %s 여행을 %s일 가네.\" % (self.name, where, day))\n",
    "        \n",
    "pey = HousePark(\"응용\")\n",
    "juliet = HouseKim(\"줄리엣\")\n",
    "pey.travel(\"부산\")\n",
    "juliet.travel(\"부산\", 3)\n",
    "pey.love(juliet)\n",
    "pey + juliet\n",
    "pey.fight(juliet)\n",
    "pey - juliet"
   ]
  },
  {
   "cell_type": "markdown",
   "metadata": {},
   "source": [
    "# 05-2 모듈"
   ]
  },
  {
   "cell_type": "code",
   "execution_count": 12,
   "metadata": {},
   "outputs": [],
   "source": [
    "import mod1   #mod1이라는 모듈을 불러옴, mod1 에는 sum과 safe_sum 함수를 만들어 둔 상태"
   ]
  },
  {
   "cell_type": "code",
   "execution_count": 13,
   "metadata": {},
   "outputs": [
    {
     "name": "stdout",
     "output_type": "stream",
     "text": [
      "3\n",
      "7\n",
      "더할수 있는 것이 아닙니다.\n",
      "None\n"
     ]
    }
   ],
   "source": [
    "print(mod1.sum(1, 2))\n",
    "print(mod1.safe_sum(3, 4))\n",
    "print(mod1.safe_sum(3, \"a\"))"
   ]
  },
  {
   "cell_type": "code",
   "execution_count": 14,
   "metadata": {},
   "outputs": [],
   "source": [
    "import mod2"
   ]
  },
  {
   "cell_type": "code",
   "execution_count": 15,
   "metadata": {},
   "outputs": [
    {
     "name": "stdout",
     "output_type": "stream",
     "text": [
      "3.141592\n",
      "12.566368\n",
      "7.5415920000000005\n"
     ]
    }
   ],
   "source": [
    "print(mod2.PI)\n",
    "a = mod2.Math()\n",
    "print(a.solve(2))\n",
    "print(mod2.sum(mod2.PI, 4.4))"
   ]
  },
  {
   "cell_type": "markdown",
   "metadata": {},
   "source": [
    "# 05-3 패키지"
   ]
  },
  {
   "cell_type": "code",
   "execution_count": 16,
   "metadata": {},
   "outputs": [
    {
     "name": "stdout",
     "output_type": "stream",
     "text": [
      "echo\n"
     ]
    }
   ],
   "source": [
    "#패키지 안의 함수 실행하기\n",
    "import game.sound.echo\n",
    "game.sound.echo.echo_test()"
   ]
  },
  {
   "cell_type": "code",
   "execution_count": 17,
   "metadata": {},
   "outputs": [
    {
     "name": "stdout",
     "output_type": "stream",
     "text": [
      "echo\n"
     ]
    }
   ],
   "source": [
    "#__all__의 용도\n",
    "from game.sound import *    #*을 통해서 import할 경우, 해당 디렉터리의 __init__.py 파일에 _all_이라는 변수를 미리 설정해야 함\n",
    "echo.echo_test()"
   ]
  },
  {
   "cell_type": "code",
   "execution_count": 26,
   "metadata": {},
   "outputs": [
    {
     "name": "stdout",
     "output_type": "stream",
     "text": [
      "render\n"
     ]
    }
   ],
   "source": [
    "#다른 디렉터리의 모듈을 사용\n",
    "from game.sound.echo import echo_test\n",
    "def render_test():\n",
    "    print(\"render\")\n",
    "    echo_test()\n",
    "    \n",
    "from game.graphic.render import render_test\n",
    "render_test()"
   ]
  },
  {
   "cell_type": "markdown",
   "metadata": {},
   "source": [
    "# 05-5 내장 함수"
   ]
  },
  {
   "cell_type": "code",
   "execution_count": 27,
   "metadata": {},
   "outputs": [
    {
     "name": "stdout",
     "output_type": "stream",
     "text": [
      "3\n",
      "3\n",
      "1.2\n"
     ]
    }
   ],
   "source": [
    "#절대값\n",
    "print(abs(3))\n",
    "print(abs(-3))\n",
    "print(abs(-1.2))"
   ]
  },
  {
   "cell_type": "code",
   "execution_count": 31,
   "metadata": {},
   "outputs": [
    {
     "name": "stdout",
     "output_type": "stream",
     "text": [
      "True\n",
      "False\n"
     ]
    }
   ],
   "source": [
    "#all (x가 모두 참이면 True)\n",
    "print(all([1, 2, 3]))\n",
    "print(all([1, 2, 3, 0]))   #0은 거짓인 요소"
   ]
  },
  {
   "cell_type": "code",
   "execution_count": 32,
   "metadata": {},
   "outputs": [
    {
     "name": "stdout",
     "output_type": "stream",
     "text": [
      "True\n",
      "False\n"
     ]
    }
   ],
   "source": [
    "#any (x중 하나라도 참이면 True)\n",
    "print(any([1, 2, 3, 0]))\n",
    "print(any([0, \"\"]))"
   ]
  },
  {
   "cell_type": "code",
   "execution_count": 33,
   "metadata": {},
   "outputs": [
    {
     "data": {
      "text/plain": [
       "(2, 1)"
      ]
     },
     "execution_count": 33,
     "metadata": {},
     "output_type": "execute_result"
    }
   ],
   "source": [
    "#divmod (나눈 몫과 나머지를 튜플 형태로 리턴)\n",
    "divmod(7, 3)"
   ]
  },
  {
   "cell_type": "code",
   "execution_count": 38,
   "metadata": {},
   "outputs": [
    {
     "name": "stdout",
     "output_type": "stream",
     "text": [
      "(0, 1)\n",
      "(1, 5)\n",
      "(2, 7)\n",
      "(3, 33)\n",
      "(4, 39)\n",
      "(5, 52)\n",
      "0 body\n",
      "1 foo\n",
      "2 bar\n"
     ]
    }
   ],
   "source": [
    "#enumerate (인덱스 번호와 컬렉션의 원소를 tuple형태로 반환)\n",
    "t = [1, 5, 7, 33, 39, 52]\n",
    "for p in enumerate(t):\n",
    "    print(p)\n",
    "\n",
    "for i, name in enumerate(['body', 'foo', 'bar']):\n",
    "    print(i, name)"
   ]
  },
  {
   "cell_type": "code",
   "execution_count": 47,
   "metadata": {},
   "outputs": [
    {
     "name": "stdout",
     "output_type": "stream",
     "text": [
      "[1, 2, 6]\n",
      "[1, 2, 6]\n"
     ]
    }
   ],
   "source": [
    "#filter (첫 번째 인수로 함수 이름, 두 번째 인수로 함수에 들어갈 자료, 리턴값이 참인 것만 출력)\n",
    "def positive(numberList):\n",
    "    result= []\n",
    "    for num in numberList:\n",
    "        if num > 0:\n",
    "            result.append(num)\n",
    "    return result\n",
    "\n",
    "print(positive([1, -3, 2, 0, -5, 6]))\n",
    "\n",
    "def positive(x):\n",
    "    return x > 0\n",
    "\n",
    "print(list(filter(positive, [1, -3, 2, 0 ,-5, 6])))"
   ]
  },
  {
   "cell_type": "code",
   "execution_count": 52,
   "metadata": {},
   "outputs": [
    {
     "name": "stdout",
     "output_type": "stream",
     "text": [
      "Hi\n",
      "Hi\n",
      "Enter : Hi\n",
      "Hi\n"
     ]
    }
   ],
   "source": [
    "#input (사용자 입력을 받는 함수)\n",
    "a = input()\n",
    "print(a)\n",
    "\n",
    "b = input(\"Enter : \")\n",
    "print(b)      #b를 출력하면 사용자 입력으로 받은 hi 출력"
   ]
  },
  {
   "cell_type": "code",
   "execution_count": 54,
   "metadata": {},
   "outputs": [
    {
     "name": "stdout",
     "output_type": "stream",
     "text": [
      "3\n",
      "3\n"
     ]
    }
   ],
   "source": [
    "#int\n",
    "print(int('3'))\n",
    "print(int(3.4))"
   ]
  },
  {
   "cell_type": "code",
   "execution_count": 58,
   "metadata": {},
   "outputs": [
    {
     "name": "stdout",
     "output_type": "stream",
     "text": [
      "7\n",
      "7\n",
      "12\n"
     ]
    }
   ],
   "source": [
    "#lambda (def와 동일한 역할)\n",
    "sum = lambda a, b: a + b\n",
    "print(sum(3, 4))\n",
    "\n",
    "myList = [lambda a, b: a + b, lambda a, b: a * b]\n",
    "print(myList[0](3, 4))\n",
    "print(myList[1](3, 4))"
   ]
  },
  {
   "cell_type": "code",
   "execution_count": 59,
   "metadata": {},
   "outputs": [
    {
     "name": "stdout",
     "output_type": "stream",
     "text": [
      "6\n",
      "3\n",
      "4\n"
     ]
    }
   ],
   "source": [
    "#Len\n",
    "print(len(\"python\"))\n",
    "print(len([1, 2, 3]))\n",
    "print(len((1, 2, 3, 'a')))"
   ]
  },
  {
   "cell_type": "code",
   "execution_count": 61,
   "metadata": {},
   "outputs": [
    {
     "name": "stdout",
     "output_type": "stream",
     "text": [
      "['p', 'y', 't', 'h', 'o', 'n']\n",
      "[1, 2, 3]\n"
     ]
    }
   ],
   "source": [
    "#list\n",
    "print(list(\"python\"))\n",
    "print(list((1, 2, 3)))"
   ]
  },
  {
   "cell_type": "code",
   "execution_count": 66,
   "metadata": {},
   "outputs": [
    {
     "data": {
      "text/plain": [
       "[2, 4, 6, 8]"
      ]
     },
     "execution_count": 66,
     "metadata": {},
     "output_type": "execute_result"
    }
   ],
   "source": [
    "#map (여러 요소가 함수 f에 의해 수행된 결과를 리턴)\n",
    "def two_times(x): return x * 2\n",
    "list(map(two_times, [1, 2, 3, 4 ]))\n",
    "\n",
    "#위 예시를 lambda를 통해 진행하면 다음과 같음\n",
    "list(map(lambda a: a * 2, [1, 2, 3, 4]))"
   ]
  },
  {
   "cell_type": "code",
   "execution_count": 68,
   "metadata": {},
   "outputs": [
    {
     "name": "stdout",
     "output_type": "stream",
     "text": [
      "3\n",
      "6\n",
      "y\n"
     ]
    }
   ],
   "source": [
    "#max\n",
    "print(max([1, 2, 3]))\n",
    "print(max(4, 5, 6))\n",
    "print(max(\"python\"))"
   ]
  },
  {
   "cell_type": "code",
   "execution_count": 69,
   "metadata": {},
   "outputs": [
    {
     "name": "stdout",
     "output_type": "stream",
     "text": [
      "1\n",
      "4\n",
      "h\n"
     ]
    }
   ],
   "source": [
    "#min\n",
    "print(min([1, 2, 3]))\n",
    "print(min(4, 5, 6))\n",
    "print(min(\"python\"))"
   ]
  },
  {
   "cell_type": "code",
   "execution_count": 74,
   "metadata": {},
   "outputs": [],
   "source": [
    "#open (파일 이름, 읽기 방법을 입력받아 파일 객체를 리턴)\n",
    "f = open(\"binary_file.txt\", \"w\")   #쓰기 모드\n",
    "f = open(\"binary_file.txt\", \"r\")   #읽기 모드\n",
    "f = open(\"binary_file.txt\", \"a\")   #추가 모드"
   ]
  },
  {
   "cell_type": "code",
   "execution_count": 75,
   "metadata": {},
   "outputs": [
    {
     "data": {
      "text/plain": [
       "81"
      ]
     },
     "execution_count": 75,
     "metadata": {},
     "output_type": "execute_result"
    }
   ],
   "source": [
    "#pow (x의 y제곱 결과값을 리턴)\n",
    "pow(3, 4)"
   ]
  },
  {
   "cell_type": "code",
   "execution_count": 78,
   "metadata": {},
   "outputs": [
    {
     "name": "stdout",
     "output_type": "stream",
     "text": [
      "[0, 1, 2, 3, 4]\n",
      "[5, 6, 7, 8, 9]\n",
      "[1, 3, 5, 7, 9]\n",
      "[0, -1, -2, -3, -4, -5, -6, -7, -8, -9]\n"
     ]
    }
   ],
   "source": [
    "#range\n",
    "print(list(range(5)))            #0에서 4까지\n",
    "print(list(range(5, 10)))        #5에서 9까지\n",
    "print(list(range(1, 10, 2)))     #1에서 9까지 2단위로\n",
    "print(list(range(0, -10, -1)))   #0에서 -9까지 1단위로"
   ]
  },
  {
   "cell_type": "code",
   "execution_count": 85,
   "metadata": {},
   "outputs": [
    {
     "name": "stdout",
     "output_type": "stream",
     "text": [
      "[1, 2, 3]\n",
      "['e', 'o', 'r', 'z']\n",
      "[3, 2, 1]\n"
     ]
    }
   ],
   "source": [
    "#sorted\n",
    "print(sorted([3, 1, 2]))\n",
    "print(sorted(\"zero\"))\n",
    "print(sorted([3, 1, 2], reverse = True))    #내림차순으로 정렬"
   ]
  },
  {
   "cell_type": "code",
   "execution_count": 89,
   "metadata": {},
   "outputs": [
    {
     "name": "stdout",
     "output_type": "stream",
     "text": [
      "3\n",
      "HI\n"
     ]
    }
   ],
   "source": [
    "#str\n",
    "print(str(3))\n",
    "print(str('hi'.upper()))"
   ]
  },
  {
   "cell_type": "code",
   "execution_count": 96,
   "metadata": {},
   "outputs": [
    {
     "name": "stdout",
     "output_type": "stream",
     "text": [
      "('a', 'b', 'c')\n",
      "(1, 2, 3)\n",
      "(1, 2, 3)\n"
     ]
    }
   ],
   "source": [
    "#tuple\n",
    "print(tuple(\"abc\"))\n",
    "print(tuple([1, 2, 3]))\n",
    "print(tuple((1, 2, 3)))"
   ]
  },
  {
   "cell_type": "code",
   "execution_count": 100,
   "metadata": {},
   "outputs": [
    {
     "name": "stdout",
     "output_type": "stream",
     "text": [
      "<class 'str'>\n",
      "<class 'list'>\n"
     ]
    }
   ],
   "source": [
    "#type\n",
    "print(type(\"abc\"))\n",
    "print(type([]))"
   ]
  },
  {
   "cell_type": "code",
   "execution_count": 104,
   "metadata": {},
   "outputs": [
    {
     "name": "stdout",
     "output_type": "stream",
     "text": [
      "[(1, 4), (2, 5), (3, 6)]\n",
      "[('a', 'd'), ('b', 'e'), ('c', 'f')]\n"
     ]
    }
   ],
   "source": [
    "#zip (동일한 개수로 이루어진 자료형을 묶어주는 역할)\n",
    "print(list(zip([1, 2, 3],[4, 5, 6])))\n",
    "print(list(zip(\"abc\", \"def\")))"
   ]
  },
  {
   "cell_type": "markdown",
   "metadata": {},
   "source": [
    "# 05-6 외장함수"
   ]
  },
  {
   "cell_type": "code",
   "execution_count": 111,
   "metadata": {},
   "outputs": [
    {
     "data": {
      "text/plain": [
       "1611711768.406174"
      ]
     },
     "execution_count": 111,
     "metadata": {},
     "output_type": "execute_result"
    }
   ],
   "source": [
    "#time\n",
    "import time\n",
    "time.time()    #1970년 1월 1일 0시 0분 0초를 기준으로 현재 시간을 초 단위로 리턴"
   ]
  },
  {
   "cell_type": "code",
   "execution_count": 115,
   "metadata": {},
   "outputs": [
    {
     "data": {
      "text/plain": [
       "time.struct_time(tm_year=2021, tm_mon=1, tm_mday=27, tm_hour=10, tm_min=44, tm_sec=0, tm_wday=2, tm_yday=27, tm_isdst=0)"
      ]
     },
     "execution_count": 115,
     "metadata": {},
     "output_type": "execute_result"
    }
   ],
   "source": [
    "#time.local\n",
    "import time\n",
    "time.localtime(time.time())    #time.time()에서 반환된 값을 연,월,일,시간 등으로 변환"
   ]
  },
  {
   "cell_type": "code",
   "execution_count": 116,
   "metadata": {},
   "outputs": [
    {
     "data": {
      "text/plain": [
       "'Wed Jan 27 10:45:05 2021'"
      ]
     },
     "execution_count": 116,
     "metadata": {},
     "output_type": "execute_result"
    }
   ],
   "source": [
    "#time.asctime\n",
    "import time\n",
    "time.asctime(time.localtime(time.time()))    #인수로 받은 값의 날짜와 시간을 알아보기 쉬운 형태로 리턴"
   ]
  },
  {
   "cell_type": "code",
   "execution_count": 117,
   "metadata": {},
   "outputs": [
    {
     "data": {
      "text/plain": [
       "'Wed Jan 27 10:45:35 2021'"
      ]
     },
     "execution_count": 117,
     "metadata": {},
     "output_type": "execute_result"
    }
   ],
   "source": [
    "#time.ctime\n",
    "import time\n",
    "time.ctime()    #현재 시간을 알아보기 쉬운 형태로 리턴"
   ]
  },
  {
   "cell_type": "code",
   "execution_count": 118,
   "metadata": {},
   "outputs": [
    {
     "name": "stdout",
     "output_type": "stream",
     "text": [
      "0\n",
      "1\n",
      "2\n",
      "3\n",
      "4\n",
      "5\n",
      "6\n",
      "7\n",
      "8\n",
      "9\n"
     ]
    }
   ],
   "source": [
    "#time.sleep\n",
    "import time\n",
    "for i in range(10):\n",
    "    print(i)\n",
    "    time.sleep(1)    #일정한 시간 간격을 두고 실행 (초 단위)"
   ]
  },
  {
   "cell_type": "code",
   "execution_count": 121,
   "metadata": {},
   "outputs": [
    {
     "name": "stdout",
     "output_type": "stream",
     "text": [
      "                                  2021\n",
      "\n",
      "      January                   February                   March\n",
      "Mo Tu We Th Fr Sa Su      Mo Tu We Th Fr Sa Su      Mo Tu We Th Fr Sa Su\n",
      "             1  2  3       1  2  3  4  5  6  7       1  2  3  4  5  6  7\n",
      " 4  5  6  7  8  9 10       8  9 10 11 12 13 14       8  9 10 11 12 13 14\n",
      "11 12 13 14 15 16 17      15 16 17 18 19 20 21      15 16 17 18 19 20 21\n",
      "18 19 20 21 22 23 24      22 23 24 25 26 27 28      22 23 24 25 26 27 28\n",
      "25 26 27 28 29 30 31                                29 30 31\n",
      "\n",
      "       April                      May                       June\n",
      "Mo Tu We Th Fr Sa Su      Mo Tu We Th Fr Sa Su      Mo Tu We Th Fr Sa Su\n",
      "          1  2  3  4                      1  2          1  2  3  4  5  6\n",
      " 5  6  7  8  9 10 11       3  4  5  6  7  8  9       7  8  9 10 11 12 13\n",
      "12 13 14 15 16 17 18      10 11 12 13 14 15 16      14 15 16 17 18 19 20\n",
      "19 20 21 22 23 24 25      17 18 19 20 21 22 23      21 22 23 24 25 26 27\n",
      "26 27 28 29 30            24 25 26 27 28 29 30      28 29 30\n",
      "                          31\n",
      "\n",
      "        July                     August                  September\n",
      "Mo Tu We Th Fr Sa Su      Mo Tu We Th Fr Sa Su      Mo Tu We Th Fr Sa Su\n",
      "          1  2  3  4                         1             1  2  3  4  5\n",
      " 5  6  7  8  9 10 11       2  3  4  5  6  7  8       6  7  8  9 10 11 12\n",
      "12 13 14 15 16 17 18       9 10 11 12 13 14 15      13 14 15 16 17 18 19\n",
      "19 20 21 22 23 24 25      16 17 18 19 20 21 22      20 21 22 23 24 25 26\n",
      "26 27 28 29 30 31         23 24 25 26 27 28 29      27 28 29 30\n",
      "                          30 31\n",
      "\n",
      "      October                   November                  December\n",
      "Mo Tu We Th Fr Sa Su      Mo Tu We Th Fr Sa Su      Mo Tu We Th Fr Sa Su\n",
      "             1  2  3       1  2  3  4  5  6  7             1  2  3  4  5\n",
      " 4  5  6  7  8  9 10       8  9 10 11 12 13 14       6  7  8  9 10 11 12\n",
      "11 12 13 14 15 16 17      15 16 17 18 19 20 21      13 14 15 16 17 18 19\n",
      "18 19 20 21 22 23 24      22 23 24 25 26 27 28      20 21 22 23 24 25 26\n",
      "25 26 27 28 29 30 31      29 30                     27 28 29 30 31\n",
      "\n"
     ]
    }
   ],
   "source": [
    "#calendar\n",
    "import calendar\n",
    "print(calendar.calendar(2021))    #2021년의 전체 달력 출력"
   ]
  },
  {
   "cell_type": "code",
   "execution_count": 122,
   "metadata": {},
   "outputs": [
    {
     "name": "stdout",
     "output_type": "stream",
     "text": [
      "    January 2021\n",
      "Mo Tu We Th Fr Sa Su\n",
      "             1  2  3\n",
      " 4  5  6  7  8  9 10\n",
      "11 12 13 14 15 16 17\n",
      "18 19 20 21 22 23 24\n",
      "25 26 27 28 29 30 31\n"
     ]
    }
   ],
   "source": [
    "#calendar.prmonth\n",
    "import calendar\n",
    "calendar.prmonth(2021, 1)    #2021년 1월의 달력을 출력"
   ]
  },
  {
   "cell_type": "code",
   "execution_count": 123,
   "metadata": {},
   "outputs": [
    {
     "data": {
      "text/plain": [
       "2"
      ]
     },
     "execution_count": 123,
     "metadata": {},
     "output_type": "execute_result"
    }
   ],
   "source": [
    "#calendar.weekday\n",
    "import calendar\n",
    "calendar.weekday(2021, 1, 27)    #월요일을 0부터 시작하여 요일 정보를 리턴"
   ]
  },
  {
   "cell_type": "code",
   "execution_count": 124,
   "metadata": {},
   "outputs": [
    {
     "data": {
      "text/plain": [
       "(4, 31)"
      ]
     },
     "execution_count": 124,
     "metadata": {},
     "output_type": "execute_result"
    }
   ],
   "source": [
    "#calendar.monthrange\n",
    "import calendar\n",
    "calendar.monthrange(2021, 1)    #입력받은 달의 1일이 무슨 요일인지와 며칠까지 있는지를 리턴"
   ]
  },
  {
   "cell_type": "code",
   "execution_count": 125,
   "metadata": {},
   "outputs": [
    {
     "data": {
      "text/plain": [
       "0.36816294141251493"
      ]
     },
     "execution_count": 125,
     "metadata": {},
     "output_type": "execute_result"
    }
   ],
   "source": [
    "#random\n",
    "import random\n",
    "random.random()    #0과 1 사이의 실수 중에 난수를 리턴"
   ]
  },
  {
   "cell_type": "code",
   "execution_count": 143,
   "metadata": {},
   "outputs": [
    {
     "data": {
      "text/plain": [
       "7"
      ]
     },
     "execution_count": 143,
     "metadata": {},
     "output_type": "execute_result"
    }
   ],
   "source": [
    "#random\n",
    "import random\n",
    "random.randint(1, 10)    #과 10 사이의 정수 중에 난수를 리턴"
   ]
  },
  {
   "cell_type": "code",
   "execution_count": 183,
   "metadata": {},
   "outputs": [
    {
     "name": "stdout",
     "output_type": "stream",
     "text": [
      "3\n",
      "2\n",
      "4\n",
      "5\n",
      "1\n"
     ]
    }
   ],
   "source": [
    "#리스트 요소 중에서 무작위로 하나씩 비복원 추출\n",
    "import random\n",
    "def random_pop(data):\n",
    "    number = random.randint(0, len(data)-1)\n",
    "    return data.pop(number)                      #number에 입력된 값을 인덱스로 사용하여 입력된 인덱스에 해당하는 값 삭제\n",
    "\n",
    "if __name__ == \"__main__\":\n",
    "    data = [1, 2, 3, 4, 5]\n",
    "    while data:\n",
    "        print(random_pop(data))"
   ]
  },
  {
   "cell_type": "code",
   "execution_count": 184,
   "metadata": {},
   "outputs": [
    {
     "data": {
      "text/plain": [
       "[4, 2, 1, 5, 3]"
      ]
     },
     "execution_count": 184,
     "metadata": {},
     "output_type": "execute_result"
    }
   ],
   "source": [
    "#random.shuffle\n",
    "import random\n",
    "data = [1, 2, 3, 4, 5]\n",
    "random.shuffle(data)    #리스트의 항목을 무작위로 섞기\n",
    "data"
   ]
  },
  {
   "cell_type": "code",
   "execution_count": 186,
   "metadata": {},
   "outputs": [
    {
     "data": {
      "text/plain": [
       "True"
      ]
     },
     "execution_count": 186,
     "metadata": {},
     "output_type": "execute_result"
    }
   ],
   "source": [
    "#webbrowser\n",
    "import webbrowser\n",
    "webbrowser.open(\"https://github.com/SeonggonKim/Jump-To-Python\")   #해당 URL 열기"
   ]
  },
  {
   "cell_type": "code",
   "execution_count": 217,
   "metadata": {},
   "outputs": [
    {
     "name": "stdout",
     "output_type": "stream",
     "text": [
      "15\n",
      "3.0\n",
      "40\n",
      "8.0\n"
     ]
    }
   ],
   "source": [
    "#클래스 연습문제\n",
    "class Calculator:\n",
    "    def __init__(self, num):\n",
    "        self.num = num\n",
    "        \n",
    "    def sum(self):\n",
    "        result = 0\n",
    "        for i in self.num:\n",
    "            result = result + i\n",
    "        return result\n",
    "    \n",
    "    def avg(self):\n",
    "        result = self.sum()\n",
    "        return result / len(self.num)\n",
    "        \n",
    "a = Calculator([1,2,3,4,5])\n",
    "print(a.sum())\n",
    "print(a.avg())\n",
    "\n",
    "b = Calculator([6,7,8,9,10])\n",
    "print(b.sum())\n",
    "print(b.avg())"
   ]
  }
 ],
 "metadata": {
  "kernelspec": {
   "display_name": "Python 3",
   "language": "python",
   "name": "python3"
  },
  "language_info": {
   "codemirror_mode": {
    "name": "ipython",
    "version": 3
   },
   "file_extension": ".py",
   "mimetype": "text/x-python",
   "name": "python",
   "nbconvert_exporter": "python",
   "pygments_lexer": "ipython3",
   "version": "3.8.5"
  }
 },
 "nbformat": 4,
 "nbformat_minor": 4
}
